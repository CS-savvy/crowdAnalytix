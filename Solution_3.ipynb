{
 "cells": [
  {
   "cell_type": "markdown",
   "metadata": {},
   "source": [
    "### Write a single generic regular expression which can extract the following patterns, given in   (), from given sentences:\n",
    " \n",
    "  #### a) Carlisle Farm Specialist F-1 Farm Tire - 12.5L-15 LRF/12 ply (Wheel Not Included)       \n",
    "      (Extract : 12.5L-15 LRF/12)\n",
    "  #### b) Evergreen EU72 205/50ZR16 OWL87W RT-5 Truck tire                                        \n",
    "       (Extract : 205/50ZR16 OWL87W)\n",
    "  #### c) Goodyear Marathon Trailer Tire w/Galvanized Rim ST215/75R14 LRC (5 Lug On 4.5)          \n",
    "       (Extract : ST215/75R14 )\n",
    "  #### d) 1 X New Achilles \\\"ATR Sport\\\" 265/35ZR18 97W XL High Performance Tires 265/35/18       \n",
    "       (Extract : 265/35ZR18 97W XL)\n",
    "  #### e) Set of 2 ZEEMAX Heavy Duty All Steel ST235/85R16-14PR TL Trailer Tire - 11073           \n",
    "       (Extract : ST235/85R16-14PR TL)\n",
    "  #### f) 1 X New Lexani LXHT-106 LT285/70R17/8 118Q BW All Season Performance SUV Tires          \n",
    "      (Extract : LT285/70R17/8 118Q BW)\n",
    "  #### g) 1 X New Nankang N889 Mudstar M/T LT245/75R16 120/116N E/10 Ply ROWL Mud Tires MT        \n",
    "      (Extract : LT245/75R16120/116N E/10)\n",
    "  #### h) Pirelli Night Dragon Motorcycle Front Tire 130/90-16 2211500                           \n",
    "      (Extract : 130/90-16 )"
   ]
  },
  {
   "cell_type": "code",
   "execution_count": 28,
   "metadata": {},
   "outputs": [],
   "source": [
    "import re"
   ]
  },
  {
   "cell_type": "code",
   "execution_count": 29,
   "metadata": {},
   "outputs": [],
   "source": [
    "a = 'Carlisle Farm Specialist F-1 Farm Tire - 12.5L-15 LRF/12 ply (Wheel Not Included)'\n",
    "b = 'Evergreen EU72 205/50ZR16 OWL87W RT-5 Truck tire'\n",
    "c = 'Goodyear Marathon Trailer Tire w/Galvanized Rim ST215/75R14 LRC (5 Lug On 4.5)'\n",
    "d = '1 X New Achilles \\\"ATR Sport\\\" 265/35ZR18 97W XL High Performance Tires 265/35/18'\n",
    "e = 'Set of 2 ZEEMAX Heavy Duty All Steel ST235/85R16-14PR TL Trailer Tire - 11073'\n",
    "f = '1 X New Lexani LXHT-106 LT285/70R17/8 118Q BW All Season Performance SUV Tires'\n",
    "g = '1 X New Nankang N889 Mudstar M/T LT245/75R16 120/116N E/10 Ply ROWL Mud Tires MT'\n",
    "h = 'Pirelli Night Dragon Motorcycle Front Tire 130/90-16 2211500'"
   ]
  },
  {
   "cell_type": "code",
   "execution_count": 271,
   "metadata": {},
   "outputs": [],
   "source": [
    "pattern = '(([A-Z0-9]+\\.?[A-Z0-9]+-?[0-9]+\\s?[A-Z]*)[/]){1,3}([A-Z0-9]+.?[A-Z0-9]+\\s?([A-Z]{1,3}\\d{0,2}[A-Z]*)*)+?' #selection_3"
   ]
  },
  {
   "cell_type": "code",
   "execution_count": 272,
   "metadata": {},
   "outputs": [
    {
     "data": {
      "text/plain": [
       "<_sre.SRE_Match object; span=(41, 57), match='12.5L-15 LRF/12 '>"
      ]
     },
     "execution_count": 272,
     "metadata": {},
     "output_type": "execute_result"
    }
   ],
   "source": [
    "re.search(pattern,a)"
   ]
  },
  {
   "cell_type": "code",
   "execution_count": 273,
   "metadata": {},
   "outputs": [
    {
     "data": {
      "text/plain": [
       "<_sre.SRE_Match object; span=(15, 35), match='205/50ZR16 OWL87W RT'>"
      ]
     },
     "execution_count": 273,
     "metadata": {},
     "output_type": "execute_result"
    }
   ],
   "source": [
    "re.search(pattern,b)"
   ]
  },
  {
   "cell_type": "code",
   "execution_count": 274,
   "metadata": {},
   "outputs": [
    {
     "data": {
      "text/plain": [
       "<_sre.SRE_Match object; span=(48, 64), match='ST215/75R14 LRC '>"
      ]
     },
     "execution_count": 274,
     "metadata": {},
     "output_type": "execute_result"
    }
   ],
   "source": [
    "re.search(pattern,c)"
   ]
  },
  {
   "cell_type": "code",
   "execution_count": 275,
   "metadata": {},
   "outputs": [
    {
     "data": {
      "text/plain": [
       "<_sre.SRE_Match object; span=(29, 46), match='265/35ZR18 97W XL'>"
      ]
     },
     "execution_count": 275,
     "metadata": {},
     "output_type": "execute_result"
    }
   ],
   "source": [
    "re.search(pattern,d)"
   ]
  },
  {
   "cell_type": "code",
   "execution_count": 276,
   "metadata": {},
   "outputs": [
    {
     "data": {
      "text/plain": [
       "<_sre.SRE_Match object; span=(37, 56), match='ST235/85R16-14PR TL'>"
      ]
     },
     "execution_count": 276,
     "metadata": {},
     "output_type": "execute_result"
    }
   ],
   "source": [
    "re.search(pattern,e)"
   ]
  },
  {
   "cell_type": "code",
   "execution_count": 277,
   "metadata": {},
   "outputs": [
    {
     "data": {
      "text/plain": [
       "<_sre.SRE_Match object; span=(24, 45), match='LT285/70R17/8 118Q BW'>"
      ]
     },
     "execution_count": 277,
     "metadata": {},
     "output_type": "execute_result"
    }
   ],
   "source": [
    "re.search(pattern,f)"
   ]
  },
  {
   "cell_type": "code",
   "execution_count": 278,
   "metadata": {},
   "outputs": [
    {
     "data": {
      "text/plain": [
       "<_sre.SRE_Match object; span=(33, 48), match='LT245/75R16 120'>"
      ]
     },
     "execution_count": 278,
     "metadata": {},
     "output_type": "execute_result"
    }
   ],
   "source": [
    "re.search(pattern,g)"
   ]
  },
  {
   "cell_type": "code",
   "execution_count": 279,
   "metadata": {},
   "outputs": [
    {
     "data": {
      "text/plain": [
       "<_sre.SRE_Match object; span=(43, 53), match='130/90-16 '>"
      ]
     },
     "execution_count": 279,
     "metadata": {},
     "output_type": "execute_result"
    }
   ],
   "source": [
    "re.search(pattern,h)"
   ]
  },
  {
   "cell_type": "code",
   "execution_count": null,
   "metadata": {},
   "outputs": [],
   "source": []
  }
 ],
 "metadata": {
  "kernelspec": {
   "display_name": "Python 3",
   "language": "python",
   "name": "python3"
  },
  "language_info": {
   "codemirror_mode": {
    "name": "ipython",
    "version": 3
   },
   "file_extension": ".py",
   "mimetype": "text/x-python",
   "name": "python",
   "nbconvert_exporter": "python",
   "pygments_lexer": "ipython3",
   "version": "3.6.4"
  }
 },
 "nbformat": 4,
 "nbformat_minor": 2
}
